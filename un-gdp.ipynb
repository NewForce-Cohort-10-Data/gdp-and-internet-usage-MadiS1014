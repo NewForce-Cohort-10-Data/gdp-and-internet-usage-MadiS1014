{
 "cells": [
  {
   "cell_type": "code",
   "execution_count": 79,
   "id": "8ed32971-e302-4a15-85c4-7ba1affa3f21",
   "metadata": {},
   "outputs": [],
   "source": [
    "import pandas as pd\n",
    "import numpy as np\n",
    "import matplotlib.pyplot as plt\n",
    "import seaborn as sns"
   ]
  },
  {
   "cell_type": "code",
   "execution_count": 145,
   "id": "024cfafc-a35b-48ee-8521-25fdbad0989d",
   "metadata": {},
   "outputs": [
    {
     "name": "stdout",
     "output_type": "stream",
     "text": [
      "<bound method DataFrame.info of           Country  Year  GDP_Per_Capita  Other\n",
      "0     Afghanistan  2018     2902.392113    NaN\n",
      "1     Afghanistan  2017     2952.998916    NaN\n",
      "2     Afghanistan  2016     2958.785399    NaN\n",
      "3     Afghanistan  2015     2967.692067    NaN\n",
      "4     Afghanistan  2014     3017.942544    NaN\n",
      "...           ...   ...             ...    ...\n",
      "8209     Zimbabwe  1994     3965.730986    NaN\n",
      "8210     Zimbabwe  1993     3634.750494    NaN\n",
      "8211     Zimbabwe  1992     3649.891947    NaN\n",
      "8212     Zimbabwe  1991     4126.405247    NaN\n",
      "8213     Zimbabwe  1990     4013.299059    NaN\n",
      "\n",
      "[8214 rows x 4 columns]>\n",
      "       Country  Year  GDP_Per_Capita  Other\n",
      "0  Afghanistan  2018     2902.392113    NaN\n",
      "1  Afghanistan  2017     2952.998916    NaN\n",
      "       Country  Year  GDP_Per_Capita  Other\n",
      "8206  Zimbabwe  1997     4304.406272    NaN\n",
      "8207  Zimbabwe  1996     4271.479930    NaN\n",
      "8208  Zimbabwe  1995     3935.280057    NaN\n",
      "8209  Zimbabwe  1994     3965.730986    NaN\n",
      "8210  Zimbabwe  1993     3634.750494    NaN\n",
      "8211  Zimbabwe  1992     3649.891947    NaN\n",
      "8212  Zimbabwe  1991     4126.405247    NaN\n",
      "8213  Zimbabwe  1990     4013.299059    NaN\n"
     ]
    },
    {
     "name": "stderr",
     "output_type": "stream",
     "text": [
      "C:\\Users\\madis\\AppData\\Local\\Temp\\ipykernel_11768\\3059160294.py:7: FutureWarning: errors='ignore' is deprecated and will raise in a future version. Use to_numeric without passing `errors` and catch exceptions explicitly instead\n",
      "  gdp_df[\"Year\"] = pd.to_numeric(gdp_df[\"Year\"], errors=\"ignore\")\n"
     ]
    }
   ],
   "source": [
    "gdp_df = pd.read_csv(\"../../data/gdp_percapita.csv\", header=5)  \n",
    "\n",
    "gdp_df.columns = [\"Country\", \"Year\", \"GDP_Per_Capita\", \"Other\"]  \n",
    "\n",
    "gdp_df = gdp_df.drop(\"Something_Else\", axis=1, errors=\"ignore\")  \n",
    "\n",
    "gdp_df[\"Year\"] = pd.to_numeric(gdp_df[\"Year\"], errors=\"ignore\")  \n",
    "\n",
    "gdp_df[\"GDP_Per_Capita\"] = gdp_df[\"GDP_Per_Capita\"].astype(float)  \n",
    "\n",
    "print(gdp_df.info)  \n",
    "print(gdp_df.head(2))  \n",
    "print(gdp_df.tail(8))  "
   ]
  },
  {
   "cell_type": "code",
   "execution_count": 85,
   "id": "ec5ae407-474a-4957-8a93-84798da93570",
   "metadata": {},
   "outputs": [
    {
     "name": "stdout",
     "output_type": "stream",
     "text": [
      "(8214, 3)\n"
     ]
    }
   ],
   "source": [
    "print(gdp_df.shape)"
   ]
  },
  {
   "cell_type": "code",
   "execution_count": 87,
   "id": "3a45b06a-6c3c-4d77-b5fe-5d3941ca587e",
   "metadata": {},
   "outputs": [
    {
     "name": "stdout",
     "output_type": "stream",
     "text": [
      "Country            object\n",
      "Year                int64\n",
      "GDP_Per_Capita    float64\n",
      "dtype: object\n"
     ]
    }
   ],
   "source": [
    "print(gdp_df.dtypes)"
   ]
  },
  {
   "cell_type": "code",
   "execution_count": 89,
   "id": "75fd4830-5502-45eb-8508-cd71931eb46a",
   "metadata": {},
   "outputs": [
    {
     "name": "stdout",
     "output_type": "stream",
     "text": [
      "Country\n",
      "Latvia           34\n",
      "North America    34\n",
      "Mongolia         34\n",
      "Morocco          34\n",
      "Mozambique       34\n",
      "Myanmar          34\n",
      "Namibia          34\n",
      "Nauru            34\n",
      "Nepal            34\n",
      "Netherlands      34\n",
      "Name: count, dtype: int64\n",
      "Country\n",
      "Sint Maarten (Dutch part)    15\n",
      "Turks and Caicos Islands     13\n",
      "Djibouti                     11\n",
      "Name: count, dtype: int64\n",
      "total unique: 247\n"
     ]
    }
   ],
   "source": [
    "counts = gdp_df[\"Country\"].value_counts(dropna=False)  \n",
    "\n",
    "print(counts.head(10))  \n",
    "print(counts.tail(3))  \n",
    "print(\"total unique:\", len(set(gdp_df[\"Country\"])))  "
   ]
  },
  {
   "cell_type": "code",
   "execution_count": 149,
   "id": "f0b9a507-55d2-43d3-9556-28eb0ecae910",
   "metadata": {},
   "outputs": [
    {
     "ename": "AttributeError",
     "evalue": "'function' object has no attribute 'sort_values'",
     "output_type": "error",
     "traceback": [
      "\u001b[1;31m---------------------------------------------------------------------------\u001b[0m",
      "\u001b[1;31mAttributeError\u001b[0m                            Traceback (most recent call last)",
      "Cell \u001b[1;32mIn[149], line 3\u001b[0m\n\u001b[0;32m      1\u001b[0m data_check \u001b[38;5;241m==\u001b[39m gdp_df\u001b[38;5;241m.\u001b[39mgroupby(\u001b[38;5;124m\"\u001b[39m\u001b[38;5;124mCountry\u001b[39m\u001b[38;5;124m\"\u001b[39m)[\u001b[38;5;124m\"\u001b[39m\u001b[38;5;124mYear\u001b[39m\u001b[38;5;124m\"\u001b[39m]\u001b[38;5;241m.\u001b[39mcount  \n\u001b[1;32m----> 3\u001b[0m data_check \u001b[38;5;241m==\u001b[39m data_check\u001b[38;5;241m.\u001b[39msort_values(ascending\u001b[38;5;241m=\u001b[39m\u001b[38;5;28;01mTrue\u001b[39;00m)  \n\u001b[0;32m      5\u001b[0m \u001b[38;5;28mprint\u001b[39m(data_check[:\u001b[38;5;241m15\u001b[39m])  \n\u001b[0;32m      6\u001b[0m \u001b[38;5;28mprint\u001b[39m(data_check[\u001b[38;5;241m-\u001b[39m\u001b[38;5;241m5\u001b[39m:])  \n",
      "\u001b[1;31mAttributeError\u001b[0m: 'function' object has no attribute 'sort_values'"
     ]
    }
   ],
   "source": [
    "data_check = gdp_df.groupby(\"Country\")[\"Year\"].count  \n",
    "\n",
    "data_check = data_check.sort_values(ascending=True)  \n",
    "\n",
    "print(data_check[:15])  \n",
    "print(data_check[-5:])  \n",
    "print(\"Total entries:\", len(data_check))  "
   ]
  },
  {
   "cell_type": "code",
   "execution_count": 147,
   "id": "7e4a4103-2a53-49e2-bf46-e853948cdbe3",
   "metadata": {},
   "outputs": [
    {
     "name": "stdout",
     "output_type": "stream",
     "text": [
      "                         Country  Year  GDP_Per_Capita  Other\n",
      "22   Africa Eastern and Southern  2020     3861.111238    NaN\n",
      "56    Africa Western and Central  2020     4622.731427    NaN\n",
      "90                       Albania  2020    14650.395929    NaN\n",
      "124                      Algeria  2020    14194.155748    NaN\n",
      "158                      Andorra  2020    55488.490299    NaN\n",
      "192                       Angola  2020     7556.967928    NaN\n",
      "226          Antigua and Barbuda  2020    23915.161984    NaN\n"
     ]
    }
   ],
   "source": [
    "gdp_2020 = gdp_df[gdp_df[\"Year\"] == 2020]  \n",
    "\n",
    "print(gdp_2020.head(7))  "
   ]
  },
  {
   "cell_type": "code",
   "execution_count": 141,
   "id": "24444bc9-6653-4ce7-b87f-8f3f36a50421",
   "metadata": {
    "scrolled": true
   },
   "outputs": [
    {
     "name": "stdout",
     "output_type": "stream",
     "text": [
      "median vale =  15309.23598817024\n"
     ]
    }
   ],
   "source": [
    "median_value = gdp_2020[\"GDP_Per_Capita\"].median()  \n",
    "\n",
    "print(\"median vale = \", median_value) "
   ]
  },
  {
   "cell_type": "code",
   "execution_count": 139,
   "id": "f728cd4e-b86a-48d4-8426-04e076445ea3",
   "metadata": {},
   "outputs": [
    {
     "name": "stdout",
     "output_type": "stream",
     "text": [
      "country Bermuda\n",
      "first country: Bermuda\n"
     ]
    }
   ],
   "source": [
    "gdp_100k = gdp_df[gdp_df[\"GDP_Per_Capita\"] > 100000]\n",
    "\n",
    "first_100k_country = gdp_100k.iloc[0][\"Country\"]\n",
    "\n",
    "print(\"country\", first_100k_country)  \n",
    "print(\"first country:\", first_100k_country)  \n",
    "\n"
   ]
  },
  {
   "cell_type": "code",
   "execution_count": 143,
   "id": "acc3aa45-80c9-4afb-a161-d7c44b91a1bb",
   "metadata": {},
   "outputs": [
    {
     "name": "stdout",
     "output_type": "stream",
     "text": [
      "country Luxembourg\n",
      "Highest GDP country:  Luxembourg\n"
     ]
    }
   ],
   "source": [
    "gdp_2020_sorted = gdp_2020.sort_values(\"GDP_Per_Capita\", ascending=False)\n",
    "\n",
    "highest_gdp_country = gdp_2020_sorted.iloc[0][\"Country\"]\n",
    "\n",
    "print(\"country\", highest_gdp_country)\n",
    "print(\"Highest GDP country: \", highest_gdp_country)\n"
   ]
  },
  {
   "cell_type": "code",
   "execution_count": 105,
   "id": "bbec4c63-bcfc-4178-96c1-f41ce5c6c481",
   "metadata": {},
   "outputs": [
    {
     "name": "stdout",
     "output_type": "stream",
     "text": [
      "Country Burundi\n",
      "Lowest GDP country: Burundi\n"
     ]
    }
   ],
   "source": [
    "gdp_2020_sorted_low = gdp_2020.sort_values(\"GDP_Per_Capita\", ascending=True)\n",
    "\n",
    "lowest_gdp_country = gdp_2020_sorted_low.iloc[0][\"Country\"]\n",
    "\n",
    "print(\"Country\", lowest_gdp_country)\n",
    "print(\"Lowest GDP country:\", lowest_gdp_country)"
   ]
  },
  {
   "cell_type": "code",
   "execution_count": 107,
   "id": "bf2f20b1-53f5-4c1c-92c5-b5bd4b2dfdf9",
   "metadata": {},
   "outputs": [
    {
     "ename": "ParserError",
     "evalue": "Error tokenizing data. C error: Expected 4 fields in line 6378, saw 6\n",
     "output_type": "error",
     "traceback": [
      "\u001b[1;31m---------------------------------------------------------------------------\u001b[0m",
      "\u001b[1;31mParserError\u001b[0m                               Traceback (most recent call last)",
      "Cell \u001b[1;32mIn[107], line 1\u001b[0m\n\u001b[1;32m----> 1\u001b[0m internet_df \u001b[38;5;241m=\u001b[39m pd\u001b[38;5;241m.\u001b[39mread_csv(\u001b[38;5;124m\"\u001b[39m\u001b[38;5;124m../../data/internet_use.csv\u001b[39m\u001b[38;5;124m\"\u001b[39m, header\u001b[38;5;241m=\u001b[39m\u001b[38;5;28;01mNone\u001b[39;00m)\n\u001b[0;32m      3\u001b[0m \u001b[38;5;28mprint\u001b[39m(internet_df\u001b[38;5;241m.\u001b[39mhead())\n\u001b[0;32m      5\u001b[0m \u001b[38;5;28mprint\u001b[39m(internet_df\u001b[38;5;241m.\u001b[39mtail())\n",
      "File \u001b[1;32m~\\anaconda3\\Lib\\site-packages\\pandas\\io\\parsers\\readers.py:1026\u001b[0m, in \u001b[0;36mread_csv\u001b[1;34m(filepath_or_buffer, sep, delimiter, header, names, index_col, usecols, dtype, engine, converters, true_values, false_values, skipinitialspace, skiprows, skipfooter, nrows, na_values, keep_default_na, na_filter, verbose, skip_blank_lines, parse_dates, infer_datetime_format, keep_date_col, date_parser, date_format, dayfirst, cache_dates, iterator, chunksize, compression, thousands, decimal, lineterminator, quotechar, quoting, doublequote, escapechar, comment, encoding, encoding_errors, dialect, on_bad_lines, delim_whitespace, low_memory, memory_map, float_precision, storage_options, dtype_backend)\u001b[0m\n\u001b[0;32m   1013\u001b[0m kwds_defaults \u001b[38;5;241m=\u001b[39m _refine_defaults_read(\n\u001b[0;32m   1014\u001b[0m     dialect,\n\u001b[0;32m   1015\u001b[0m     delimiter,\n\u001b[1;32m   (...)\u001b[0m\n\u001b[0;32m   1022\u001b[0m     dtype_backend\u001b[38;5;241m=\u001b[39mdtype_backend,\n\u001b[0;32m   1023\u001b[0m )\n\u001b[0;32m   1024\u001b[0m kwds\u001b[38;5;241m.\u001b[39mupdate(kwds_defaults)\n\u001b[1;32m-> 1026\u001b[0m \u001b[38;5;28;01mreturn\u001b[39;00m _read(filepath_or_buffer, kwds)\n",
      "File \u001b[1;32m~\\anaconda3\\Lib\\site-packages\\pandas\\io\\parsers\\readers.py:626\u001b[0m, in \u001b[0;36m_read\u001b[1;34m(filepath_or_buffer, kwds)\u001b[0m\n\u001b[0;32m    623\u001b[0m     \u001b[38;5;28;01mreturn\u001b[39;00m parser\n\u001b[0;32m    625\u001b[0m \u001b[38;5;28;01mwith\u001b[39;00m parser:\n\u001b[1;32m--> 626\u001b[0m     \u001b[38;5;28;01mreturn\u001b[39;00m parser\u001b[38;5;241m.\u001b[39mread(nrows)\n",
      "File \u001b[1;32m~\\anaconda3\\Lib\\site-packages\\pandas\\io\\parsers\\readers.py:1923\u001b[0m, in \u001b[0;36mTextFileReader.read\u001b[1;34m(self, nrows)\u001b[0m\n\u001b[0;32m   1916\u001b[0m nrows \u001b[38;5;241m=\u001b[39m validate_integer(\u001b[38;5;124m\"\u001b[39m\u001b[38;5;124mnrows\u001b[39m\u001b[38;5;124m\"\u001b[39m, nrows)\n\u001b[0;32m   1917\u001b[0m \u001b[38;5;28;01mtry\u001b[39;00m:\n\u001b[0;32m   1918\u001b[0m     \u001b[38;5;66;03m# error: \"ParserBase\" has no attribute \"read\"\u001b[39;00m\n\u001b[0;32m   1919\u001b[0m     (\n\u001b[0;32m   1920\u001b[0m         index,\n\u001b[0;32m   1921\u001b[0m         columns,\n\u001b[0;32m   1922\u001b[0m         col_dict,\n\u001b[1;32m-> 1923\u001b[0m     ) \u001b[38;5;241m=\u001b[39m \u001b[38;5;28mself\u001b[39m\u001b[38;5;241m.\u001b[39m_engine\u001b[38;5;241m.\u001b[39mread(  \u001b[38;5;66;03m# type: ignore[attr-defined]\u001b[39;00m\n\u001b[0;32m   1924\u001b[0m         nrows\n\u001b[0;32m   1925\u001b[0m     )\n\u001b[0;32m   1926\u001b[0m \u001b[38;5;28;01mexcept\u001b[39;00m \u001b[38;5;167;01mException\u001b[39;00m:\n\u001b[0;32m   1927\u001b[0m     \u001b[38;5;28mself\u001b[39m\u001b[38;5;241m.\u001b[39mclose()\n",
      "File \u001b[1;32m~\\anaconda3\\Lib\\site-packages\\pandas\\io\\parsers\\c_parser_wrapper.py:234\u001b[0m, in \u001b[0;36mCParserWrapper.read\u001b[1;34m(self, nrows)\u001b[0m\n\u001b[0;32m    232\u001b[0m \u001b[38;5;28;01mtry\u001b[39;00m:\n\u001b[0;32m    233\u001b[0m     \u001b[38;5;28;01mif\u001b[39;00m \u001b[38;5;28mself\u001b[39m\u001b[38;5;241m.\u001b[39mlow_memory:\n\u001b[1;32m--> 234\u001b[0m         chunks \u001b[38;5;241m=\u001b[39m \u001b[38;5;28mself\u001b[39m\u001b[38;5;241m.\u001b[39m_reader\u001b[38;5;241m.\u001b[39mread_low_memory(nrows)\n\u001b[0;32m    235\u001b[0m         \u001b[38;5;66;03m# destructive to chunks\u001b[39;00m\n\u001b[0;32m    236\u001b[0m         data \u001b[38;5;241m=\u001b[39m _concatenate_chunks(chunks)\n",
      "File \u001b[1;32mparsers.pyx:838\u001b[0m, in \u001b[0;36mpandas._libs.parsers.TextReader.read_low_memory\u001b[1;34m()\u001b[0m\n",
      "File \u001b[1;32mparsers.pyx:905\u001b[0m, in \u001b[0;36mpandas._libs.parsers.TextReader._read_rows\u001b[1;34m()\u001b[0m\n",
      "File \u001b[1;32mparsers.pyx:874\u001b[0m, in \u001b[0;36mpandas._libs.parsers.TextReader._tokenize_rows\u001b[1;34m()\u001b[0m\n",
      "File \u001b[1;32mparsers.pyx:891\u001b[0m, in \u001b[0;36mpandas._libs.parsers.TextReader._check_tokenize_status\u001b[1;34m()\u001b[0m\n",
      "File \u001b[1;32mparsers.pyx:2061\u001b[0m, in \u001b[0;36mpandas._libs.parsers.raise_parser_error\u001b[1;34m()\u001b[0m\n",
      "\u001b[1;31mParserError\u001b[0m: Error tokenizing data. C error: Expected 4 fields in line 6378, saw 6\n"
     ]
    }
   ],
   "source": [
    "internet_df = pd.read_csv(\"../../data/internet_use.csv\", header=None)\n",
    "\n",
    "print(internet_df.head())\n",
    "\n",
    "print(internet_df.tail())\n",
    "\n",
    "print(internet_df.dtypes)\n",
    "\n",
    "internet_df = pd.read_csv(\"../../data/internet_use.csv\", sep=\";\", header=None)\n",
    "\n",
    "print(internet_df.head())"
   ]
  },
  {
   "cell_type": "code",
   "execution_count": 117,
   "id": "c11e1ca1-a729-4104-9f66-a560173af9c7",
   "metadata": {},
   "outputs": [
    {
     "name": "stdout",
     "output_type": "stream",
     "text": [
      "                 0     1      2                3\n",
      "0  Country or Area  Year  Value  Value Footnotes\n",
      "1      Afghanistan  2019   17.6                1\n",
      "2      Afghanistan  2018   16.8                2\n",
      "3      Afghanistan  2017   13.5                3\n",
      "4      Afghanistan  2016     11                4\n",
      "        0                                                  1    2    3\n",
      "6376  293  Estimated based on Survey's results. Populatio...  NaN  NaN\n",
      "6377  294                     Preliminary. Country estimate.  NaN  NaN\n",
      "6378  295                                 18+. ITU estimate.  NaN  NaN\n",
      "6379  296                     ICT survey. Population age 11+  NaN  NaN\n",
      "6380  297  Internet users aged 3 years and above who used...  NaN  NaN\n",
      "0    object\n",
      "1    object\n",
      "2    object\n",
      "3    object\n",
      "dtype: object\n",
      "0    object\n",
      "1    object\n",
      "2    object\n",
      "3    object\n",
      "dtype: object\n",
      "                 0     1      2                3\n",
      "0  Country or Area  Year  Value  Value Footnotes\n",
      "1      Afghanistan  2019   17.6                1\n",
      "2      Afghanistan  2018   16.8                2\n",
      "3      Afghanistan  2017   13.5                3\n",
      "4      Afghanistan  2016     11                4\n"
     ]
    }
   ],
   "source": [
    "internet_df = pd.read_csv(\"../../data/internet_use.csv\", header=None, on_bad_lines =  'skip', delimiter = \",\")   \n",
    "\n",
    "print(internet_df.head() ) \n",
    "\n",
    "print(internet_df.tail())  \n",
    "\n",
    "print(internet_df.dtypes )   \n",
    "\n",
    "print(internet_df.dtypes )   \n",
    "print( internet_df.head( )   )  "
   ]
  },
  {
   "cell_type": "code",
   "execution_count": 132,
   "id": "8406c0b0-ddb2-403d-aa6c-eb2da5c91e0a",
   "metadata": {},
   "outputs": [
    {
     "name": "stdout",
     "output_type": "stream",
     "text": [
      "           Country  Year Internet Users Percent            Other\n",
      "0  Country or Area  Year                  Value  Value Footnotes\n",
      "1      Afghanistan  2019                   17.6                1\n",
      "2      Afghanistan  2018                   16.8                2\n",
      "3      Afghanistan  2017                   13.5                3\n",
      "4      Afghanistan  2016                     11                4\n"
     ]
    }
   ],
   "source": [
    "internet_df = internet_df.drop([\"Value Footnotes\"],axis=1,errors='ignore')\n",
    "\n",
    "internet_df.columns = ['Country', 'Year', 'Internet Users Percent', 'Other'] \n",
    "\n",
    "internet_df.columns = [i.strip() for i in internet_df.columns] \n",
    "\n",
    "print(internet_df.head(   )  )"
   ]
  },
  {
   "cell_type": "code",
   "execution_count": null,
   "id": "81d622a1-4f15-4f68-8ef7-ed8985f14e09",
   "metadata": {},
   "outputs": [],
   "source": []
  }
 ],
 "metadata": {
  "kernelspec": {
   "display_name": "Python [conda env:base] *",
   "language": "python",
   "name": "conda-base-py"
  },
  "language_info": {
   "codemirror_mode": {
    "name": "ipython",
    "version": 3
   },
   "file_extension": ".py",
   "mimetype": "text/x-python",
   "name": "python",
   "nbconvert_exporter": "python",
   "pygments_lexer": "ipython3",
   "version": "3.12.7"
  }
 },
 "nbformat": 4,
 "nbformat_minor": 5
}
